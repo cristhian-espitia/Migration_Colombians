{
  "nbformat": 4,
  "nbformat_minor": 0,
  "metadata": {
    "colab": {
      "provenance": []
    },
    "kernelspec": {
      "name": "python3",
      "display_name": "Python 3"
    },
    "language_info": {
      "name": "python"
    }
  },
  "cells": [
    {
      "cell_type": "markdown",
      "source": [
        "EMPEZANDO A MANEJAR COLAB CON CIENCIA DE DATOS👊👍🙏"
      ],
      "metadata": {
        "id": "pNI9Rpl40tzJ"
      }
    },
    {
      "cell_type": "markdown",
      "source": [
        "TRAEMOS LIBRERIAS A UTILIZAR:👩‍💻👩‍💻"
      ],
      "metadata": {
        "id": "LXGzs20P0yjc"
      }
    },
    {
      "cell_type": "code",
      "source": [
        "import pandas as pd\n",
        "import numpy as np\n",
        "import os"
      ],
      "metadata": {
        "id": "ZGSD8IRk03xL"
      },
      "execution_count": null,
      "outputs": []
    },
    {
      "cell_type": "markdown",
      "source": [
        "TRAEMOS EL ARCHIVO 😄"
      ],
      "metadata": {
        "id": "Rbjnfkak1DKd"
      }
    },
    {
      "cell_type": "code",
      "source": [
        "df_colombianos = pd.read_csv('/content/drive/MyDrive/PROYECTO PERSONAL/Colombianos_registrados_en_el_exterior.csv')\n",
        "df_colombianos"
      ],
      "metadata": {
        "colab": {
          "base_uri": "https://localhost:8080/",
          "height": 835
        },
        "id": "47fFzIoM1q9t",
        "outputId": "12db7619-f19d-4260-fe3c-5d5ddd63a598"
      },
      "execution_count": null,
      "outputs": [
        {
          "output_type": "stream",
          "name": "stderr",
          "text": [
            "/usr/local/lib/python3.8/dist-packages/IPython/core/interactiveshell.py:3326: DtypeWarning: Columns (11) have mixed types.Specify dtype option on import or set low_memory=False.\n",
            "  exec(code_obj, self.user_global_ns, self.user_ns)\n"
          ]
        },
        {
          "output_type": "execute_result",
          "data": {
            "text/plain": [
              "                  País Código ISO país Oficina de registro    Grupo edad  \\\n",
              "0               ESPAÑA             ESP     C. VALENCIA ESP        ADULTO   \n",
              "1            VENEZUELA             VEN       C. MERIDA VEN  ADULTO MAYOR   \n",
              "2       ESTADOS UNIDOS             USA          C. HOUSTON        ADULTO   \n",
              "3              BELGICA             BEL         C. BRUSELAS        ADULTO   \n",
              "4            VENEZUELA             VEN          C. CARACAS  ADULTO MAYOR   \n",
              "...                ...             ...                 ...           ...   \n",
              "695343          CANADA             CAN          C. TORONTO        ADULTO   \n",
              "695344          MEXICO             MEX           C. MEXICO  ADULTO JOVEN   \n",
              "695345         URUGUAY             URY       C. MONTEVIDEO        ADULTO   \n",
              "695346  ESTADOS UNIDOS             USA          C. HOUSTON  ADULTO MAYOR   \n",
              "695347          MEXICO             MEX      C. GUADALAJARA  ADULTO JOVEN   \n",
              "\n",
              "        Edad (años)                             Área Conocimiento  \\\n",
              "0                42  ECONOMÍA, ADMINISTRACIÓN CONTADURIA Y AFINES   \n",
              "1                65                                       NINGUNA   \n",
              "2                39                      CIENCIAS DE LA EDUCACIÓN   \n",
              "3                34                                  BELLAS ARTES   \n",
              "4                79                                     NO INDICA   \n",
              "...             ...                                           ...   \n",
              "695343           49                                     NO INDICA   \n",
              "695344           27                                       NINGUNA   \n",
              "695345           36                                       NINGUNA   \n",
              "695346           79  ECONOMÍA, ADMINISTRACIÓN CONTADURIA Y AFINES   \n",
              "695347           21  ECONOMÍA, ADMINISTRACIÓN CONTADURIA Y AFINES   \n",
              "\n",
              "       Sub Area Conocimiento         Nivel Académico Estado civil     Género  \\\n",
              "0         CONTADURÍA PÚBLICA               NO INDICA       CASADO  MASCULINO   \n",
              "1                    NINGUNA               NO INDICA  UNION_LIBRE  MASCULINO   \n",
              "2                  EDUCACIÓN               NO INDICA       CASADO   FEMENINO   \n",
              "3                     MÚSICA               NO INDICA  DESCONOCIDO  MASCULINO   \n",
              "4                  NO INDICA                PRIMARIA      SOLTERO  MASCULINO   \n",
              "...                      ...                     ...          ...        ...   \n",
              "695343             NO INDICA  PREGRADO - PROFESIONAL       CASADO  MASCULINO   \n",
              "695344               NINGUNA            BACHILLERATO      SOLTERO  MASCULINO   \n",
              "695345               NINGUNA               NO INDICA      SOLTERO  MASCULINO   \n",
              "695346              ECONOMÍA               NO INDICA       CASADO  MASCULINO   \n",
              "695347        ADMINISTRACIÓN            BACHILLERATO      SOLTERO  MASCULINO   \n",
              "\n",
              "       Etnia de la persona Estatura (CM)              Localización  \\\n",
              "0                  NINGUNA            -1     (40.463667, -3.74922)   \n",
              "1                     OTRO            -1      (6.42375, -66.58973)   \n",
              "2                  NINGUNA            -1    (37.09024, -95.712891)   \n",
              "3                     OTRO            -1     (50.503887, 4.469936)   \n",
              "4                  NINGUNA           170      (6.42375, -66.58973)   \n",
              "...                    ...           ...                       ...   \n",
              "695343             NINGUNA           175  (56.130366, -106.346771)   \n",
              "695344             NINGUNA           179  (23.634501, -102.552784)   \n",
              "695345                OTRO            -1  (-32.522779, -55.765835)   \n",
              "695346                OTRO            -1    (37.09024, -95.712891)   \n",
              "695347             NINGUNA           165  (23.634501, -102.552784)   \n",
              "\n",
              "        Cantidad de personas  \n",
              "0                          1  \n",
              "1                          2  \n",
              "2                          3  \n",
              "3                          1  \n",
              "4                          1  \n",
              "...                      ...  \n",
              "695343                     2  \n",
              "695344                     1  \n",
              "695345                     1  \n",
              "695346                     1  \n",
              "695347                     1  \n",
              "\n",
              "[695348 rows x 14 columns]"
            ],
            "text/html": [
              "\n",
              "  <div id=\"df-4dfff257-a64d-4dfb-ac22-063473ba670a\">\n",
              "    <div class=\"colab-df-container\">\n",
              "      <div>\n",
              "<style scoped>\n",
              "    .dataframe tbody tr th:only-of-type {\n",
              "        vertical-align: middle;\n",
              "    }\n",
              "\n",
              "    .dataframe tbody tr th {\n",
              "        vertical-align: top;\n",
              "    }\n",
              "\n",
              "    .dataframe thead th {\n",
              "        text-align: right;\n",
              "    }\n",
              "</style>\n",
              "<table border=\"1\" class=\"dataframe\">\n",
              "  <thead>\n",
              "    <tr style=\"text-align: right;\">\n",
              "      <th></th>\n",
              "      <th>País</th>\n",
              "      <th>Código ISO país</th>\n",
              "      <th>Oficina de registro</th>\n",
              "      <th>Grupo edad</th>\n",
              "      <th>Edad (años)</th>\n",
              "      <th>Área Conocimiento</th>\n",
              "      <th>Sub Area Conocimiento</th>\n",
              "      <th>Nivel Académico</th>\n",
              "      <th>Estado civil</th>\n",
              "      <th>Género</th>\n",
              "      <th>Etnia de la persona</th>\n",
              "      <th>Estatura (CM)</th>\n",
              "      <th>Localización</th>\n",
              "      <th>Cantidad de personas</th>\n",
              "    </tr>\n",
              "  </thead>\n",
              "  <tbody>\n",
              "    <tr>\n",
              "      <th>0</th>\n",
              "      <td>ESPAÑA</td>\n",
              "      <td>ESP</td>\n",
              "      <td>C. VALENCIA ESP</td>\n",
              "      <td>ADULTO</td>\n",
              "      <td>42</td>\n",
              "      <td>ECONOMÍA, ADMINISTRACIÓN CONTADURIA Y AFINES</td>\n",
              "      <td>CONTADURÍA PÚBLICA</td>\n",
              "      <td>NO INDICA</td>\n",
              "      <td>CASADO</td>\n",
              "      <td>MASCULINO</td>\n",
              "      <td>NINGUNA</td>\n",
              "      <td>-1</td>\n",
              "      <td>(40.463667, -3.74922)</td>\n",
              "      <td>1</td>\n",
              "    </tr>\n",
              "    <tr>\n",
              "      <th>1</th>\n",
              "      <td>VENEZUELA</td>\n",
              "      <td>VEN</td>\n",
              "      <td>C. MERIDA VEN</td>\n",
              "      <td>ADULTO MAYOR</td>\n",
              "      <td>65</td>\n",
              "      <td>NINGUNA</td>\n",
              "      <td>NINGUNA</td>\n",
              "      <td>NO INDICA</td>\n",
              "      <td>UNION_LIBRE</td>\n",
              "      <td>MASCULINO</td>\n",
              "      <td>OTRO</td>\n",
              "      <td>-1</td>\n",
              "      <td>(6.42375, -66.58973)</td>\n",
              "      <td>2</td>\n",
              "    </tr>\n",
              "    <tr>\n",
              "      <th>2</th>\n",
              "      <td>ESTADOS UNIDOS</td>\n",
              "      <td>USA</td>\n",
              "      <td>C. HOUSTON</td>\n",
              "      <td>ADULTO</td>\n",
              "      <td>39</td>\n",
              "      <td>CIENCIAS DE LA EDUCACIÓN</td>\n",
              "      <td>EDUCACIÓN</td>\n",
              "      <td>NO INDICA</td>\n",
              "      <td>CASADO</td>\n",
              "      <td>FEMENINO</td>\n",
              "      <td>NINGUNA</td>\n",
              "      <td>-1</td>\n",
              "      <td>(37.09024, -95.712891)</td>\n",
              "      <td>3</td>\n",
              "    </tr>\n",
              "    <tr>\n",
              "      <th>3</th>\n",
              "      <td>BELGICA</td>\n",
              "      <td>BEL</td>\n",
              "      <td>C. BRUSELAS</td>\n",
              "      <td>ADULTO</td>\n",
              "      <td>34</td>\n",
              "      <td>BELLAS ARTES</td>\n",
              "      <td>MÚSICA</td>\n",
              "      <td>NO INDICA</td>\n",
              "      <td>DESCONOCIDO</td>\n",
              "      <td>MASCULINO</td>\n",
              "      <td>OTRO</td>\n",
              "      <td>-1</td>\n",
              "      <td>(50.503887, 4.469936)</td>\n",
              "      <td>1</td>\n",
              "    </tr>\n",
              "    <tr>\n",
              "      <th>4</th>\n",
              "      <td>VENEZUELA</td>\n",
              "      <td>VEN</td>\n",
              "      <td>C. CARACAS</td>\n",
              "      <td>ADULTO MAYOR</td>\n",
              "      <td>79</td>\n",
              "      <td>NO INDICA</td>\n",
              "      <td>NO INDICA</td>\n",
              "      <td>PRIMARIA</td>\n",
              "      <td>SOLTERO</td>\n",
              "      <td>MASCULINO</td>\n",
              "      <td>NINGUNA</td>\n",
              "      <td>170</td>\n",
              "      <td>(6.42375, -66.58973)</td>\n",
              "      <td>1</td>\n",
              "    </tr>\n",
              "    <tr>\n",
              "      <th>...</th>\n",
              "      <td>...</td>\n",
              "      <td>...</td>\n",
              "      <td>...</td>\n",
              "      <td>...</td>\n",
              "      <td>...</td>\n",
              "      <td>...</td>\n",
              "      <td>...</td>\n",
              "      <td>...</td>\n",
              "      <td>...</td>\n",
              "      <td>...</td>\n",
              "      <td>...</td>\n",
              "      <td>...</td>\n",
              "      <td>...</td>\n",
              "      <td>...</td>\n",
              "    </tr>\n",
              "    <tr>\n",
              "      <th>695343</th>\n",
              "      <td>CANADA</td>\n",
              "      <td>CAN</td>\n",
              "      <td>C. TORONTO</td>\n",
              "      <td>ADULTO</td>\n",
              "      <td>49</td>\n",
              "      <td>NO INDICA</td>\n",
              "      <td>NO INDICA</td>\n",
              "      <td>PREGRADO - PROFESIONAL</td>\n",
              "      <td>CASADO</td>\n",
              "      <td>MASCULINO</td>\n",
              "      <td>NINGUNA</td>\n",
              "      <td>175</td>\n",
              "      <td>(56.130366, -106.346771)</td>\n",
              "      <td>2</td>\n",
              "    </tr>\n",
              "    <tr>\n",
              "      <th>695344</th>\n",
              "      <td>MEXICO</td>\n",
              "      <td>MEX</td>\n",
              "      <td>C. MEXICO</td>\n",
              "      <td>ADULTO JOVEN</td>\n",
              "      <td>27</td>\n",
              "      <td>NINGUNA</td>\n",
              "      <td>NINGUNA</td>\n",
              "      <td>BACHILLERATO</td>\n",
              "      <td>SOLTERO</td>\n",
              "      <td>MASCULINO</td>\n",
              "      <td>NINGUNA</td>\n",
              "      <td>179</td>\n",
              "      <td>(23.634501, -102.552784)</td>\n",
              "      <td>1</td>\n",
              "    </tr>\n",
              "    <tr>\n",
              "      <th>695345</th>\n",
              "      <td>URUGUAY</td>\n",
              "      <td>URY</td>\n",
              "      <td>C. MONTEVIDEO</td>\n",
              "      <td>ADULTO</td>\n",
              "      <td>36</td>\n",
              "      <td>NINGUNA</td>\n",
              "      <td>NINGUNA</td>\n",
              "      <td>NO INDICA</td>\n",
              "      <td>SOLTERO</td>\n",
              "      <td>MASCULINO</td>\n",
              "      <td>OTRO</td>\n",
              "      <td>-1</td>\n",
              "      <td>(-32.522779, -55.765835)</td>\n",
              "      <td>1</td>\n",
              "    </tr>\n",
              "    <tr>\n",
              "      <th>695346</th>\n",
              "      <td>ESTADOS UNIDOS</td>\n",
              "      <td>USA</td>\n",
              "      <td>C. HOUSTON</td>\n",
              "      <td>ADULTO MAYOR</td>\n",
              "      <td>79</td>\n",
              "      <td>ECONOMÍA, ADMINISTRACIÓN CONTADURIA Y AFINES</td>\n",
              "      <td>ECONOMÍA</td>\n",
              "      <td>NO INDICA</td>\n",
              "      <td>CASADO</td>\n",
              "      <td>MASCULINO</td>\n",
              "      <td>OTRO</td>\n",
              "      <td>-1</td>\n",
              "      <td>(37.09024, -95.712891)</td>\n",
              "      <td>1</td>\n",
              "    </tr>\n",
              "    <tr>\n",
              "      <th>695347</th>\n",
              "      <td>MEXICO</td>\n",
              "      <td>MEX</td>\n",
              "      <td>C. GUADALAJARA</td>\n",
              "      <td>ADULTO JOVEN</td>\n",
              "      <td>21</td>\n",
              "      <td>ECONOMÍA, ADMINISTRACIÓN CONTADURIA Y AFINES</td>\n",
              "      <td>ADMINISTRACIÓN</td>\n",
              "      <td>BACHILLERATO</td>\n",
              "      <td>SOLTERO</td>\n",
              "      <td>MASCULINO</td>\n",
              "      <td>NINGUNA</td>\n",
              "      <td>165</td>\n",
              "      <td>(23.634501, -102.552784)</td>\n",
              "      <td>1</td>\n",
              "    </tr>\n",
              "  </tbody>\n",
              "</table>\n",
              "<p>695348 rows × 14 columns</p>\n",
              "</div>\n",
              "      <button class=\"colab-df-convert\" onclick=\"convertToInteractive('df-4dfff257-a64d-4dfb-ac22-063473ba670a')\"\n",
              "              title=\"Convert this dataframe to an interactive table.\"\n",
              "              style=\"display:none;\">\n",
              "        \n",
              "  <svg xmlns=\"http://www.w3.org/2000/svg\" height=\"24px\"viewBox=\"0 0 24 24\"\n",
              "       width=\"24px\">\n",
              "    <path d=\"M0 0h24v24H0V0z\" fill=\"none\"/>\n",
              "    <path d=\"M18.56 5.44l.94 2.06.94-2.06 2.06-.94-2.06-.94-.94-2.06-.94 2.06-2.06.94zm-11 1L8.5 8.5l.94-2.06 2.06-.94-2.06-.94L8.5 2.5l-.94 2.06-2.06.94zm10 10l.94 2.06.94-2.06 2.06-.94-2.06-.94-.94-2.06-.94 2.06-2.06.94z\"/><path d=\"M17.41 7.96l-1.37-1.37c-.4-.4-.92-.59-1.43-.59-.52 0-1.04.2-1.43.59L10.3 9.45l-7.72 7.72c-.78.78-.78 2.05 0 2.83L4 21.41c.39.39.9.59 1.41.59.51 0 1.02-.2 1.41-.59l7.78-7.78 2.81-2.81c.8-.78.8-2.07 0-2.86zM5.41 20L4 18.59l7.72-7.72 1.47 1.35L5.41 20z\"/>\n",
              "  </svg>\n",
              "      </button>\n",
              "      \n",
              "  <style>\n",
              "    .colab-df-container {\n",
              "      display:flex;\n",
              "      flex-wrap:wrap;\n",
              "      gap: 12px;\n",
              "    }\n",
              "\n",
              "    .colab-df-convert {\n",
              "      background-color: #E8F0FE;\n",
              "      border: none;\n",
              "      border-radius: 50%;\n",
              "      cursor: pointer;\n",
              "      display: none;\n",
              "      fill: #1967D2;\n",
              "      height: 32px;\n",
              "      padding: 0 0 0 0;\n",
              "      width: 32px;\n",
              "    }\n",
              "\n",
              "    .colab-df-convert:hover {\n",
              "      background-color: #E2EBFA;\n",
              "      box-shadow: 0px 1px 2px rgba(60, 64, 67, 0.3), 0px 1px 3px 1px rgba(60, 64, 67, 0.15);\n",
              "      fill: #174EA6;\n",
              "    }\n",
              "\n",
              "    [theme=dark] .colab-df-convert {\n",
              "      background-color: #3B4455;\n",
              "      fill: #D2E3FC;\n",
              "    }\n",
              "\n",
              "    [theme=dark] .colab-df-convert:hover {\n",
              "      background-color: #434B5C;\n",
              "      box-shadow: 0px 1px 3px 1px rgba(0, 0, 0, 0.15);\n",
              "      filter: drop-shadow(0px 1px 2px rgba(0, 0, 0, 0.3));\n",
              "      fill: #FFFFFF;\n",
              "    }\n",
              "  </style>\n",
              "\n",
              "      <script>\n",
              "        const buttonEl =\n",
              "          document.querySelector('#df-4dfff257-a64d-4dfb-ac22-063473ba670a button.colab-df-convert');\n",
              "        buttonEl.style.display =\n",
              "          google.colab.kernel.accessAllowed ? 'block' : 'none';\n",
              "\n",
              "        async function convertToInteractive(key) {\n",
              "          const element = document.querySelector('#df-4dfff257-a64d-4dfb-ac22-063473ba670a');\n",
              "          const dataTable =\n",
              "            await google.colab.kernel.invokeFunction('convertToInteractive',\n",
              "                                                     [key], {});\n",
              "          if (!dataTable) return;\n",
              "\n",
              "          const docLinkHtml = 'Like what you see? Visit the ' +\n",
              "            '<a target=\"_blank\" href=https://colab.research.google.com/notebooks/data_table.ipynb>data table notebook</a>'\n",
              "            + ' to learn more about interactive tables.';\n",
              "          element.innerHTML = '';\n",
              "          dataTable['output_type'] = 'display_data';\n",
              "          await google.colab.output.renderOutput(dataTable, element);\n",
              "          const docLink = document.createElement('div');\n",
              "          docLink.innerHTML = docLinkHtml;\n",
              "          element.appendChild(docLink);\n",
              "        }\n",
              "      </script>\n",
              "    </div>\n",
              "  </div>\n",
              "  "
            ]
          },
          "metadata": {},
          "execution_count": 2
        }
      ]
    },
    {
      "cell_type": "markdown",
      "source": [
        "Miramos cuantos datos tenemos a esta altura\n"
      ],
      "metadata": {
        "id": "FSe0EdlTXuyh"
      }
    },
    {
      "cell_type": "code",
      "source": [
        "len (df_colombianos)"
      ],
      "metadata": {
        "colab": {
          "base_uri": "https://localhost:8080/"
        },
        "id": "26LrXLIvXx5o",
        "outputId": "972eb669-6e74-4ed2-91c7-354e3cd1ba75"
      },
      "execution_count": null,
      "outputs": [
        {
          "output_type": "execute_result",
          "data": {
            "text/plain": [
              "695348"
            ]
          },
          "metadata": {},
          "execution_count": 3
        }
      ]
    },
    {
      "cell_type": "markdown",
      "source": [
        "Analizmos el tipo de datos que tengo en mi data frame"
      ],
      "metadata": {
        "id": "ub3pV8erZiKD"
      }
    },
    {
      "cell_type": "code",
      "source": [
        "df_colombianos.dtypes"
      ],
      "metadata": {
        "colab": {
          "base_uri": "https://localhost:8080/"
        },
        "id": "GefNKc6ZZmTb",
        "outputId": "3550cfb0-7047-4e74-f5df-1ade7a58ba5f"
      },
      "execution_count": null,
      "outputs": [
        {
          "output_type": "execute_result",
          "data": {
            "text/plain": [
              "País                     object\n",
              "Código ISO país          object\n",
              "Oficina de registro      object\n",
              "Grupo edad               object\n",
              "Edad (años)               int64\n",
              "Área Conocimiento        object\n",
              "Sub Area Conocimiento    object\n",
              "Nivel Académico          object\n",
              "Estado civil             object\n",
              "Género                   object\n",
              "Etnia de la persona      object\n",
              "Estatura (CM)            object\n",
              "Localización             object\n",
              "Cantidad de personas      int64\n",
              "dtype: object"
            ]
          },
          "metadata": {},
          "execution_count": 4
        }
      ]
    },
    {
      "cell_type": "markdown",
      "source": [
        "GUARDMOS EN CARPETA"
      ],
      "metadata": {
        "id": "kp6nSr1pgBEz"
      }
    },
    {
      "cell_type": "code",
      "source": [
        "df_colombianos.to_csv ('/content/drive/MyDrive/PROYECTO PERSONAL/clean_registro.csv', index= None)"
      ],
      "metadata": {
        "id": "qYOA2SgHmPgb"
      },
      "execution_count": null,
      "outputs": []
    }
  ]
}